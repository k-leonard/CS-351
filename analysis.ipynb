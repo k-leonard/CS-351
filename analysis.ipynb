{
 "cells": [
  {
   "cell_type": "markdown",
   "metadata": {},
   "source": [
    "importing"
   ]
  },
  {
   "cell_type": "code",
   "execution_count": 1,
   "metadata": {},
   "outputs": [],
   "source": [
    "from finalavltree import AVLTree\n",
    "from finalredblacktree import RedBlackTree\n",
    "import time\n",
    "import os\n",
    "#import pandas as pd\n",
    "import csv"
   ]
  },
  {
   "cell_type": "markdown",
   "metadata": {},
   "source": [
    "file setup"
   ]
  },
  {
   "cell_type": "code",
   "execution_count": 2,
   "metadata": {},
   "outputs": [],
   "source": [
    "files = [\n",
    "    '100_ordered_numbers.txt', '100_random_numbers.txt'#'5000_ordered_numbers.txt', '5000_random_numbers.txt',\n",
    "    # '10000_ordered_numbers.txt', '10000_random_numbers.txt'\n",
    "]\n",
    "\n",
    "directory = 'testingdata'\n",
    "\n",
    "def read_int_from_file(filename):\n",
    "    numbers = []\n",
    "    file_path = os.path.join(directory, filename)  # Join the directory and filename\n",
    "\n",
    "    try:\n",
    "        with open(file_path, 'r') as file:\n",
    "            for line in file:\n",
    "                line_numbers = line.strip().split()\n",
    "                for num_str in line_numbers:\n",
    "                    try:\n",
    "                        num = int(num_str)\n",
    "                        numbers.append(num)\n",
    "                    except ValueError:\n",
    "                        print(f\"Skipping non-integer value: {num_str}\")\n",
    "    except FileNotFoundError:\n",
    "        print(f\"Error: File '{filename}' not found.\")\n",
    "        return 0\n",
    "\n",
    "    print(f\"Step 1 Complete for {filename}\")\n",
    "    return numbers\n"
   ]
  },
  {
   "cell_type": "markdown",
   "metadata": {},
   "source": [
    "defining tests"
   ]
  },
  {
   "cell_type": "code",
   "execution_count": 3,
   "metadata": {},
   "outputs": [],
   "source": [
    "def test_tree_operations(tree_type:str, data):\n",
    "    if tree_type == \"RedBlackTree\":\n",
    "        tree= RedBlackTree()\n",
    "    if tree_type== \"AVLTree\":\n",
    "        tree = AVLTree()\n",
    "    start_time = time.time()\n",
    "    for item in data:\n",
    "        tree.insert(item)\n",
    "    insertion_time = time.time() - start_time\n",
    "\n",
    "   \n",
    "    start_time = time.time()\n",
    "    for item in data:\n",
    "        tree.search(item)\n",
    "    search_time = time.time() - start_time\n",
    "\n",
    "    \n",
    "    start_time = time.time()\n",
    "    for item in data:\n",
    "        tree.delete(item)\n",
    "    deletion_time = time.time() - start_time\n",
    "\n",
    "    return insertion_time, search_time, deletion_time\n",
    "\n",
    "# results = []\n",
    "\n",
    "# for filename in files:\n",
    "#     start_time = time.time() \n",
    "#     numbers = read_int_from_file(filename)\n",
    "#     count = tree.insert(numbers)\n",
    "#     end_time = time.time()\n",
    "#     time_taken = end_time - start_time\n",
    "#     results.append((len(numbers), time_taken))\n",
    "#     print(f\"Processed {filename}: {count} inserted into Red-Black Tree in {time_taken:.4f} seconds.\")\n",
    "\n",
    "# print(results)\n"
   ]
  },
  {
   "cell_type": "markdown",
   "metadata": {},
   "source": [
    "results"
   ]
  },
  {
   "cell_type": "code",
   "execution_count": null,
   "metadata": {},
   "outputs": [
    {
     "name": "stdout",
     "output_type": "stream",
     "text": [
      "Step 1 Complete for 100_ordered_numbers.txt\n"
     ]
    }
   ],
   "source": [
    "\n",
    "for file in files:\n",
    "    data = read_int_from_file(file)  \n",
    "\n",
    "    if data: \n",
    "        red_black_tree_times = test_tree_operations(\"RedBlackTree\", data)\n",
    "        avl_tree_times = test_tree_operations(\"AVLTree\", data)\n",
    "\n",
    "        print(f\"\\nResults for {file}:\")\n",
    "        print(f\"Red-Black Tree: Insertion: {red_black_tree_times[0]}s, Search: {red_black_tree_times[1]}s, Deletion: {red_black_tree_times[2]}s\")\n",
    "        print(f\"AVL Tree: Insertion: {avl_tree_times[0]}s, Search: {avl_tree_times[1]}s, Deletion: {avl_tree_times[2]}s\")\n",
    "    else:\n",
    "        print(f\"Skipping {file} due to missing or invalid data.\")"
   ]
  },
  {
   "cell_type": "markdown",
   "metadata": {},
   "source": [
    "analysis/comparison"
   ]
  }
 ],
 "metadata": {
  "kernelspec": {
   "display_name": "Python 3",
   "language": "python",
   "name": "python3"
  },
  "language_info": {
   "codemirror_mode": {
    "name": "ipython",
    "version": 3
   },
   "file_extension": ".py",
   "mimetype": "text/x-python",
   "name": "python",
   "nbconvert_exporter": "python",
   "pygments_lexer": "ipython3",
   "version": "3.12.6"
  }
 },
 "nbformat": 4,
 "nbformat_minor": 2
}
