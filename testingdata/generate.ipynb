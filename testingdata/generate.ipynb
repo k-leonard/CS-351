{
 "cells": [
  {
   "cell_type": "code",
   "execution_count": 2,
   "metadata": {},
   "outputs": [],
   "source": [
    "min_value = 0       # Minimum value for the random numbers\n",
    "max_value = 1000000    # Maximum value for the random numbers"
   ]
  },
  {
   "cell_type": "code",
   "execution_count": 3,
   "metadata": {},
   "outputs": [],
   "source": [
    "import random\n",
    "\n",
    "def generate_random_numbers(num_numbers, min_value, max_value):\n",
    "    # Generate the specified number of random numbers\n",
    "    random_numbers = [random.randint(min_value, max_value) for _ in range(num_numbers)]\n",
    "\n",
    "    # Create a dynamic filename based on the number of random numbers\n",
    "    filename = f\"{num_numbers}_random_numbers.txt\"\n",
    "\n",
    "    # Save the numbers to the dynamically generated text file\n",
    "    with open(filename, 'w') as file:\n",
    "        for number in random_numbers:\n",
    "            file.write(f\"{number}\\n\")\n",
    "\n",
    "    print(f\"{num_numbers} random numbers saved to {filename}\")\n"
   ]
  },
  {
   "cell_type": "code",
   "execution_count": null,
   "metadata": {},
   "outputs": [],
   "source": []
  },
  {
   "cell_type": "code",
   "execution_count": 4,
   "metadata": {},
   "outputs": [],
   "source": [
    "def generate_ordered_numbers(num_numbers, min_value, max_value):\n",
    "    # Generate the specified number of ordered numbers (ascending order)\n",
    "    ordered_numbers = list(range(min_value, min_value + num_numbers))\n",
    "\n",
    "    # Create a dynamic filename based on the number of numbers\n",
    "    filename = f\"{num_numbers}_ordered_numbers.txt\"\n",
    "\n",
    "    # Save the numbers to the dynamically generated text file\n",
    "    with open(filename, 'w') as file:\n",
    "        for number in ordered_numbers:\n",
    "            file.write(f\"{number}\\n\")\n"
   ]
  },
  {
   "cell_type": "code",
   "execution_count": 5,
   "metadata": {},
   "outputs": [
    {
     "name": "stdout",
     "output_type": "stream",
     "text": [
      "1000 random numbers saved to 1000_random_numbers.txt\n"
     ]
    }
   ],
   "source": [
    "# Example usage: generate 1k, 5k, or 10k random numbers\n",
    "num_numbers = 1000  # Change this to 5000 for 5k, or 10000 for 10k\n",
    "generate_random_numbers(num_numbers, min_value, max_value)\n",
    "generate_ordered_numbers(num_numbers, min_value, max_value)\n"
   ]
  },
  {
   "cell_type": "code",
   "execution_count": 6,
   "metadata": {},
   "outputs": [
    {
     "name": "stdout",
     "output_type": "stream",
     "text": [
      "5000 random numbers saved to 5000_random_numbers.txt\n"
     ]
    }
   ],
   "source": [
    "# Example usage: generate 1k, 5k, or 10k random numbers\n",
    "num_numbers = 5000  # Change this to 5000 for 5k, or 10000 for 10k\n",
    "generate_random_numbers(num_numbers, min_value, max_value)\n",
    "generate_ordered_numbers(num_numbers, min_value, max_value)\n"
   ]
  },
  {
   "cell_type": "code",
   "execution_count": 7,
   "metadata": {},
   "outputs": [
    {
     "name": "stdout",
     "output_type": "stream",
     "text": [
      "10000 random numbers saved to 10000_random_numbers.txt\n"
     ]
    }
   ],
   "source": [
    "# Example usage: generate 1k, 5k, or 10k random numbers\n",
    "num_numbers = 10000  # Change this to 5000 for 5k, or 10000 for 10k\n",
    "generate_random_numbers(num_numbers, min_value, max_value)\n",
    "generate_ordered_numbers(num_numbers, min_value, max_value)\n"
   ]
  },
  {
   "cell_type": "code",
   "execution_count": 8,
   "metadata": {},
   "outputs": [
    {
     "name": "stdout",
     "output_type": "stream",
     "text": [
      "100 random numbers saved to 100_random_numbers.txt\n"
     ]
    }
   ],
   "source": [
    "# Example usage: generate 1k, 5k, or 10k random numbers\n",
    "num_numbers = 100  # Change this to 5000 for 5k, or 10000 for 10k\n",
    "generate_random_numbers(num_numbers, min_value, max_value)\n",
    "generate_ordered_numbers(num_numbers, min_value, max_value)\n"
   ]
  },
  {
   "cell_type": "code",
   "execution_count": 9,
   "metadata": {},
   "outputs": [
    {
     "name": "stdout",
     "output_type": "stream",
     "text": [
      "10 random numbers saved to 10_random_numbers.txt\n"
     ]
    }
   ],
   "source": [
    "# Example usage: generate 1k, 5k, or 10k random numbers\n",
    "num_numbers = 10  # Change this to 5000 for 5k, or 10000 for 10k\n",
    "generate_random_numbers(num_numbers, min_value, max_value)\n",
    "generate_ordered_numbers(num_numbers, min_value, max_value)"
   ]
  },
  {
   "cell_type": "code",
   "execution_count": 10,
   "metadata": {},
   "outputs": [
    {
     "name": "stdout",
     "output_type": "stream",
     "text": [
      "500 random numbers saved to 500_random_numbers.txt\n"
     ]
    }
   ],
   "source": [
    "# Example usage: generate 1k, 5k, or 10k random numbers\n",
    "num_numbers = 500  # Change this to 5000 for 5k, or 10000 for 10k\n",
    "generate_random_numbers(num_numbers, min_value, max_value)\n",
    "generate_ordered_numbers(num_numbers, min_value, max_value)"
   ]
  },
  {
   "cell_type": "code",
   "execution_count": 11,
   "metadata": {},
   "outputs": [
    {
     "name": "stdout",
     "output_type": "stream",
     "text": [
      "750 random numbers saved to 750_random_numbers.txt\n"
     ]
    }
   ],
   "source": [
    "# Example usage: generate 1k, 5k, or 10k random numbers\n",
    "num_numbers = 750  # Change this to 5000 for 5k, or 10000 for 10k\n",
    "generate_random_numbers(num_numbers, min_value, max_value)\n",
    "generate_ordered_numbers(num_numbers, min_value, max_value)"
   ]
  }
 ],
 "metadata": {
  "kernelspec": {
   "display_name": "Python 3",
   "language": "python",
   "name": "python3"
  },
  "language_info": {
   "codemirror_mode": {
    "name": "ipython",
    "version": 3
   },
   "file_extension": ".py",
   "mimetype": "text/x-python",
   "name": "python",
   "nbconvert_exporter": "python",
   "pygments_lexer": "ipython3",
   "version": "3.12.6"
  }
 },
 "nbformat": 4,
 "nbformat_minor": 2
}
